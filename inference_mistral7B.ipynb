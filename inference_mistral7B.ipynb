{
 "cells": [
  {
   "cell_type": "code",
   "execution_count": null,
   "metadata": {
    "colab": {
     "base_uri": "https://localhost:8080/"
    },
    "executionInfo": {
     "elapsed": 15411,
     "status": "ok",
     "timestamp": 1747411140827,
     "user": {
      "displayName": "tùng bùi sơn",
      "userId": "16113988612539348042"
     },
     "user_tz": -600
    },
    "id": "zY2KWUMWI5NL",
    "outputId": "d5cefc9a-f707-4131-ea5f-ae6e0e1b8fd7"
   },
   "outputs": [
    {
     "name": "stdout",
     "output_type": "stream",
     "text": [
      "Collecting bitsandbytes\n",
      "  Downloading bitsandbytes-0.45.5-py3-none-manylinux_2_24_x86_64.whl.metadata (5.0 kB)\n",
      "Requirement already satisfied: accelerate in /usr/local/lib/python3.11/dist-packages (1.6.0)\n",
      "Collecting xformers==0.0.29.post3\n",
      "  Downloading xformers-0.0.29.post3-cp311-cp311-manylinux_2_28_x86_64.whl.metadata (1.0 kB)\n",
      "Requirement already satisfied: peft in /usr/local/lib/python3.11/dist-packages (0.15.2)\n",
      "Collecting trl==0.15.2\n",
      "  Downloading trl-0.15.2-py3-none-any.whl.metadata (11 kB)\n",
      "Requirement already satisfied: triton in /usr/local/lib/python3.11/dist-packages (3.2.0)\n",
      "Collecting cut_cross_entropy\n",
      "  Downloading cut_cross_entropy-25.1.1-py3-none-any.whl.metadata (9.3 kB)\n",
      "Collecting unsloth_zoo\n",
      "  Downloading unsloth_zoo-2025.5.6-py3-none-any.whl.metadata (8.0 kB)\n",
      "Downloading xformers-0.0.29.post3-cp311-cp311-manylinux_2_28_x86_64.whl (43.4 MB)\n",
      "\u001b[2K   \u001b[90m━━━━━━━━━━━━━━━━━━━━━━━━━━━━━━━━━━━━━━━━\u001b[0m \u001b[32m43.4/43.4 MB\u001b[0m \u001b[31m21.0 MB/s\u001b[0m eta \u001b[36m0:00:00\u001b[0m\n",
      "\u001b[?25hDownloading trl-0.15.2-py3-none-any.whl (318 kB)\n",
      "\u001b[2K   \u001b[90m━━━━━━━━━━━━━━━━━━━━━━━━━━━━━━━━━━━━━━━━\u001b[0m \u001b[32m318.9/318.9 kB\u001b[0m \u001b[31m29.2 MB/s\u001b[0m eta \u001b[36m0:00:00\u001b[0m\n",
      "\u001b[?25hDownloading bitsandbytes-0.45.5-py3-none-manylinux_2_24_x86_64.whl (76.1 MB)\n",
      "\u001b[2K   \u001b[90m━━━━━━━━━━━━━━━━━━━━━━━━━━━━━━━━━━━━━━━━\u001b[0m \u001b[32m76.1/76.1 MB\u001b[0m \u001b[31m10.6 MB/s\u001b[0m eta \u001b[36m0:00:00\u001b[0m\n",
      "\u001b[?25hDownloading cut_cross_entropy-25.1.1-py3-none-any.whl (22 kB)\n",
      "Downloading unsloth_zoo-2025.5.6-py3-none-any.whl (138 kB)\n",
      "\u001b[2K   \u001b[90m━━━━━━━━━━━━━━━━━━━━━━━━━━━━━━━━━━━━━━━━\u001b[0m \u001b[32m138.1/138.1 kB\u001b[0m \u001b[31m10.7 MB/s\u001b[0m eta \u001b[36m0:00:00\u001b[0m\n",
      "\u001b[?25hInstalling collected packages: xformers, unsloth_zoo, trl, cut_cross_entropy, bitsandbytes\n",
      "Successfully installed bitsandbytes-0.45.5 cut_cross_entropy-25.1.1 trl-0.15.2 unsloth_zoo-2025.5.6 xformers-0.0.29.post3\n",
      "Requirement already satisfied: sentencepiece in /usr/local/lib/python3.11/dist-packages (0.2.0)\n",
      "Requirement already satisfied: protobuf in /usr/local/lib/python3.11/dist-packages (5.29.4)\n",
      "Requirement already satisfied: datasets in /usr/local/lib/python3.11/dist-packages (2.14.4)\n",
      "Requirement already satisfied: huggingface_hub in /usr/local/lib/python3.11/dist-packages (0.31.2)\n",
      "Requirement already satisfied: hf_transfer in /usr/local/lib/python3.11/dist-packages (0.1.9)\n",
      "Requirement already satisfied: numpy>=1.17 in /usr/local/lib/python3.11/dist-packages (from datasets) (2.0.2)\n",
      "Requirement already satisfied: pyarrow>=8.0.0 in /usr/local/lib/python3.11/dist-packages (from datasets) (18.1.0)\n",
      "Requirement already satisfied: dill<0.3.8,>=0.3.0 in /usr/local/lib/python3.11/dist-packages (from datasets) (0.3.7)\n",
      "Requirement already satisfied: pandas in /usr/local/lib/python3.11/dist-packages (from datasets) (2.2.2)\n",
      "Requirement already satisfied: requests>=2.19.0 in /usr/local/lib/python3.11/dist-packages (from datasets) (2.32.3)\n",
      "Requirement already satisfied: tqdm>=4.62.1 in /usr/local/lib/python3.11/dist-packages (from datasets) (4.67.1)\n",
      "Requirement already satisfied: xxhash in /usr/local/lib/python3.11/dist-packages (from datasets) (3.5.0)\n",
      "Requirement already satisfied: multiprocess in /usr/local/lib/python3.11/dist-packages (from datasets) (0.70.15)\n",
      "Requirement already satisfied: fsspec>=2021.11.1 in /usr/local/lib/python3.11/dist-packages (from fsspec[http]>=2021.11.1->datasets) (2025.3.2)\n",
      "Requirement already satisfied: aiohttp in /usr/local/lib/python3.11/dist-packages (from datasets) (3.11.15)\n",
      "Requirement already satisfied: packaging in /usr/local/lib/python3.11/dist-packages (from datasets) (24.2)\n",
      "Requirement already satisfied: pyyaml>=5.1 in /usr/local/lib/python3.11/dist-packages (from datasets) (6.0.2)\n",
      "Requirement already satisfied: filelock in /usr/local/lib/python3.11/dist-packages (from huggingface_hub) (3.18.0)\n",
      "Requirement already satisfied: typing-extensions>=3.7.4.3 in /usr/local/lib/python3.11/dist-packages (from huggingface_hub) (4.13.2)\n",
      "Requirement already satisfied: aiohappyeyeballs>=2.3.0 in /usr/local/lib/python3.11/dist-packages (from aiohttp->datasets) (2.6.1)\n",
      "Requirement already satisfied: aiosignal>=1.1.2 in /usr/local/lib/python3.11/dist-packages (from aiohttp->datasets) (1.3.2)\n",
      "Requirement already satisfied: attrs>=17.3.0 in /usr/local/lib/python3.11/dist-packages (from aiohttp->datasets) (25.3.0)\n",
      "Requirement already satisfied: frozenlist>=1.1.1 in /usr/local/lib/python3.11/dist-packages (from aiohttp->datasets) (1.6.0)\n",
      "Requirement already satisfied: multidict<7.0,>=4.5 in /usr/local/lib/python3.11/dist-packages (from aiohttp->datasets) (6.4.3)\n",
      "Requirement already satisfied: propcache>=0.2.0 in /usr/local/lib/python3.11/dist-packages (from aiohttp->datasets) (0.3.1)\n",
      "Requirement already satisfied: yarl<2.0,>=1.17.0 in /usr/local/lib/python3.11/dist-packages (from aiohttp->datasets) (1.20.0)\n",
      "Requirement already satisfied: charset-normalizer<4,>=2 in /usr/local/lib/python3.11/dist-packages (from requests>=2.19.0->datasets) (3.4.2)\n",
      "Requirement already satisfied: idna<4,>=2.5 in /usr/local/lib/python3.11/dist-packages (from requests>=2.19.0->datasets) (3.10)\n",
      "Requirement already satisfied: urllib3<3,>=1.21.1 in /usr/local/lib/python3.11/dist-packages (from requests>=2.19.0->datasets) (2.4.0)\n",
      "Requirement already satisfied: certifi>=2017.4.17 in /usr/local/lib/python3.11/dist-packages (from requests>=2.19.0->datasets) (2025.4.26)\n",
      "Requirement already satisfied: python-dateutil>=2.8.2 in /usr/local/lib/python3.11/dist-packages (from pandas->datasets) (2.9.0.post0)\n",
      "Requirement already satisfied: pytz>=2020.1 in /usr/local/lib/python3.11/dist-packages (from pandas->datasets) (2025.2)\n",
      "Requirement already satisfied: tzdata>=2022.7 in /usr/local/lib/python3.11/dist-packages (from pandas->datasets) (2025.2)\n",
      "Requirement already satisfied: six>=1.5 in /usr/local/lib/python3.11/dist-packages (from python-dateutil>=2.8.2->pandas->datasets) (1.17.0)\n",
      "Collecting unsloth\n",
      "  Downloading unsloth-2025.5.4-py3-none-any.whl.metadata (46 kB)\n",
      "\u001b[2K     \u001b[90m━━━━━━━━━━━━━━━━━━━━━━━━━━━━━━━━━━━━━━━━\u001b[0m \u001b[32m46.9/46.9 kB\u001b[0m \u001b[31m2.9 MB/s\u001b[0m eta \u001b[36m0:00:00\u001b[0m\n",
      "\u001b[?25hDownloading unsloth-2025.5.4-py3-none-any.whl (265 kB)\n",
      "\u001b[2K   \u001b[90m━━━━━━━━━━━━━━━━━━━━━━━━━━━━━━━━━━━━━━━━\u001b[0m \u001b[32m265.4/265.4 kB\u001b[0m \u001b[31m10.5 MB/s\u001b[0m eta \u001b[36m0:00:00\u001b[0m\n",
      "\u001b[?25hInstalling collected packages: unsloth\n",
      "Successfully installed unsloth-2025.5.4\n",
      "Collecting python-dotenv\n",
      "  Downloading python_dotenv-1.1.0-py3-none-any.whl.metadata (24 kB)\n",
      "Downloading python_dotenv-1.1.0-py3-none-any.whl (20 kB)\n",
      "Installing collected packages: python-dotenv\n",
      "Successfully installed python-dotenv-1.1.0\n"
     ]
    }
   ],
   "source": [
    "!pip install --no-deps bitsandbytes accelerate xformers==0.0.29.post3 peft trl==0.15.2 triton cut_cross_entropy unsloth_zoo\n",
    "!pip install sentencepiece protobuf datasets huggingface_hub hf_transfer\n",
    "!pip install --no-deps unsloth\n",
    "!pip install python-dotenv\n"
   ]
  },
  {
   "cell_type": "code",
   "execution_count": null,
   "metadata": {
    "id": "h-pDWjesKcBl"
   },
   "outputs": [],
   "source": [
    "from huggingface_hub import login\n",
    "import os\n",
    "from dotenv import load_dotenv\n",
    "\n",
    "load_dotenv(\"/content/drive/MyDrive/shin_colab/tokens.env\")\n",
    "HUGGINGFACE_API_KEY = os.getenv(\"HUGGINGFACE_API_KEY\")\n",
    "# Replace 'your_token' with the token you copied from your Hugging Face account\n",
    "login(token=HUGGINGFACE_API_KEY)"
   ]
  },
  {
   "cell_type": "code",
   "execution_count": null,
   "metadata": {
    "id": "caH8wP3qKwOF"
   },
   "outputs": [],
   "source": [
    "import torch\n",
    "import transformers\n",
    "from transformers import AutoTokenizer, AutoModelForCausalLM\n",
    "import pandas as pd\n",
    "import matplotlib.pyplot as plt\n",
    "import time\n",
    "import psutil\n",
    "from tqdm import tqdm # For progress tracking\n",
    "import numpy as np\n",
    "from sklearn.metrics import accuracy_score, precision_score, recall_score, f1_score, confusion_matrix, classification_report\n",
    "import seaborn as sns"
   ]
  },
  {
   "cell_type": "code",
   "execution_count": null,
   "metadata": {
    "colab": {
     "base_uri": "https://localhost:8080/"
    },
    "executionInfo": {
     "elapsed": 1290,
     "status": "ok",
     "timestamp": 1747411172821,
     "user": {
      "displayName": "tùng bùi sơn",
      "userId": "16113988612539348042"
     },
     "user_tz": -600
    },
    "id": "xYgFgE66FKzX",
    "outputId": "8f979a16-2047-43ec-e68b-0462ef205e06"
   },
   "outputs": [
    {
     "name": "stdout",
     "output_type": "stream",
     "text": [
      "GPU Available:  True\n",
      "GPU Name:  Tesla T4\n"
     ]
    }
   ],
   "source": [
    "import torch\n",
    "print(\"GPU Available: \", torch.cuda.is_available())\n",
    "print(\"GPU Name: \", torch.cuda.get_device_name())"
   ]
  },
  {
   "cell_type": "markdown",
   "metadata": {
    "id": "bJaqSwS6BfC7"
   },
   "source": [
    "*Tips for Selecting the Right Dataset*\n",
    "- **Relevance to the Task**: The dataset should be closely aligned with the domain or problem you are solving.\n",
    "- **Authenticity and Trustworthiness**: Ensure that the data comes from credible sources.\n",
    "- **Privacy and Compliance**: Always follow data protection policies, especially when handling sensitive or personally identifiable information (PII).\n",
    "- **Labeled vs. Unlabeled Data**: For supervised learning tasks, it's ideal if the dataset already includes labels (e.g., sentiment polarity, categories, diagnosis codes).\n",
    "- **Trusted Sources for Datasets**: You can explore high-quality datasets from platforms such as Hugging Face Datasets, Kaggle."
   ]
  },
  {
   "cell_type": "code",
   "execution_count": null,
   "metadata": {
    "colab": {
     "base_uri": "https://localhost:8080/"
    },
    "executionInfo": {
     "elapsed": 3655,
     "status": "ok",
     "timestamp": 1747411175295,
     "user": {
      "displayName": "tùng bùi sơn",
      "userId": "16113988612539348042"
     },
     "user_tz": -600
    },
    "id": "3YN97_O2CE__",
    "outputId": "0b3845ff-a0b1-43d9-efeb-8e8a62b7561b"
   },
   "outputs": [
    {
     "name": "stdout",
     "output_type": "stream",
     "text": [
      "Train Dataset:\n",
      "                        drugName                     condition  \\\n",
      "206461                 Valsartan  Left Ventricular Dysfunction   \n",
      "95260                 Guanfacine                          ADHD   \n",
      "92703                     Lybrel                 Birth Control   \n",
      "138000                Ortho Evra                 Birth Control   \n",
      "35696   Buprenorphine / naloxone             Opiate Dependence   \n",
      "\n",
      "                                                   review  rating  \\\n",
      "206461  \"It has no side effect, I take it in combinati...     9.0   \n",
      "95260   \"My son is halfway through his fourth week of ...     8.0   \n",
      "92703   \"I used to take another oral contraceptive, wh...     5.0   \n",
      "138000  \"This is my first time using any form of birth...     8.0   \n",
      "35696   \"Suboxone has completely turned my life around...     9.0   \n",
      "\n",
      "                     date  usefulCount  \n",
      "206461       May 20, 2012           27  \n",
      "95260      April 27, 2010          192  \n",
      "92703   December 14, 2009           17  \n",
      "138000   November 3, 2015           10  \n",
      "35696   November 27, 2016           37  \n",
      "Test Dataset:\n",
      "               drugName                     condition  \\\n",
      "163740      Mirtazapine                    Depression   \n",
      "206473       Mesalamine  Crohn's Disease, Maintenance   \n",
      "159672          Bactrim       Urinary Tract Infection   \n",
      "39293          Contrave                   Weight Loss   \n",
      "97768   Cyclafem 1 / 35                 Birth Control   \n",
      "\n",
      "                                                   review  rating  \\\n",
      "163740  \"I&#039;ve tried a few antidepressants over th...    10.0   \n",
      "206473  \"My son has Crohn&#039;s disease and has done ...     8.0   \n",
      "159672                      \"Quick reduction of symptoms\"     9.0   \n",
      "39293   \"Contrave combines drugs that were used for al...     9.0   \n",
      "97768   \"I have been on this birth control for one cyc...     9.0   \n",
      "\n",
      "                      date  usefulCount  \n",
      "163740   February 28, 2012           22  \n",
      "206473        May 17, 2009           17  \n",
      "159672  September 29, 2017            3  \n",
      "39293        March 5, 2017           35  \n",
      "97768     October 22, 2015            4  \n"
     ]
    }
   ],
   "source": [
    "# Load dataset\n",
    "\n",
    "splits = {'train': 'datasets/train.tsv',\n",
    "          'test': 'datasets/test.tsv'}\n",
    "#Loading train dataset\n",
    "train_df = pd.read_csv(splits['train'], sep=\"\\t\", index_col=0)\n",
    "\n",
    "#Loading test dataset\n",
    "test_df = pd.read_csv(splits['test'], sep=\"\\t\", index_col=0)\n",
    "\n",
    "print(\"Train Dataset:\")\n",
    "print(train_df.head())\n",
    "\n",
    "print(\"Test Dataset:\")\n",
    "print(test_df.head())"
   ]
  },
  {
   "cell_type": "markdown",
   "metadata": {},
   "source": [
    "### Data EDA"
   ]
  },
  {
   "cell_type": "code",
   "execution_count": null,
   "metadata": {
    "colab": {
     "base_uri": "https://localhost:8080/"
    },
    "executionInfo": {
     "elapsed": 49,
     "status": "ok",
     "timestamp": 1747411175350,
     "user": {
      "displayName": "tùng bùi sơn",
      "userId": "16113988612539348042"
     },
     "user_tz": -600
    },
    "id": "GYRxOf7K-ZGK",
    "outputId": "a189e0b7-4c40-4ded-de05-4560ce7636a1"
   },
   "outputs": [],
   "source": [
    "# Use 2 columns only\n",
    "selected_columns = ['review', 'rating']\n",
    "\n",
    "train_df = train_df[selected_columns]\n",
    "test_df = test_df[selected_columns]\n",
    "\n",
    "print(\"Selected columns in Train Dataset:\")\n",
    "print(train_df.head())\n",
    "\n",
    "print(\"Selected columns in Test Dataset:\")\n",
    "print(test_df.head())"
   ]
  },
  {
   "cell_type": "code",
   "execution_count": null,
   "metadata": {
    "colab": {
     "base_uri": "https://localhost:8080/"
    },
    "executionInfo": {
     "elapsed": 19,
     "status": "ok",
     "timestamp": 1747411175374,
     "user": {
      "displayName": "tùng bùi sơn",
      "userId": "16113988612539348042"
     },
     "user_tz": -600
    },
    "id": "PV36U6AwAqRG",
    "outputId": "78074bc1-c356-4efe-ac49-633c7e7c904a"
   },
   "outputs": [
    {
     "name": "stdout",
     "output_type": "stream",
     "text": [
      "There are 161297 samples in train dataset\n",
      "There are 53766 samples in test dataset\n"
     ]
    }
   ],
   "source": [
    "# How many samples in train dataset?, How many samples in test dataset?\n",
    "num_train_samples = train_df.shape[0]\n",
    "num_test_samples = test_df.shape[0]\n",
    "\n",
    "print(\"There are {} samples in train dataset\".format(num_train_samples))\n",
    "print(\"There are {} samples in test dataset\".format(num_test_samples))"
   ]
  },
  {
   "cell_type": "code",
   "execution_count": null,
   "metadata": {
    "colab": {
     "base_uri": "https://localhost:8080/",
     "height": 902
    },
    "executionInfo": {
     "elapsed": 463,
     "status": "ok",
     "timestamp": 1747411175846,
     "user": {
      "displayName": "tùng bùi sơn",
      "userId": "16113988612539348042"
     },
     "user_tz": -600
    },
    "id": "4n6ZovVSBanM",
    "outputId": "5334367e-d9ad-4bcf-bcea-fe862e0e2682"
   },
   "outputs": [
    {
     "name": "stderr",
     "output_type": "stream",
     "text": [
      "<ipython-input-9-5f94f847de05>:4: SettingWithCopyWarning: \n",
      "A value is trying to be set on a copy of a slice from a DataFrame.\n",
      "Try using .loc[row_indexer,col_indexer] = value instead\n",
      "\n",
      "See the caveats in the documentation: https://pandas.pydata.org/pandas-docs/stable/user_guide/indexing.html#returning-a-view-versus-a-copy\n",
      "  train_df['review_length'] = train_df['review'].astype(str).apply(len)\n"
     ]
    },
    {
     "data": {
      "image/png": "[encoded data removed]",
      "text/plain": [
       "<Figure size 600x400 with 1 Axes>"
      ]
     },
     "metadata": {},
     "output_type": "display_data"
    },
    {
     "data": {
      "image/png": "[encoded data removed]",
      "text/plain": [
       "<Figure size 600x400 with 1 Axes>"
      ]
     },
     "metadata": {},
     "output_type": "display_data"
    }
   ],
   "source": [
    "# Plot the histogram of Review column for both train and test dataset.\n",
    "\n",
    "# Firstly, compute review lengths (number of characters), change to numerical data\n",
    "train_df['review_length'] = train_df['review'].astype(str).apply(len)\n",
    "test_df['review_length'] = test_df['review'].astype(str).apply(len)\n",
    "\n",
    "# Plot histogram of Review\n",
    "# For Train Dataset\n",
    "plt.figure(figsize=(6,4))\n",
    "plt.hist(train_df['review_length'], bins = 50, color = 'blue')\n",
    "plt.xlabel(\"Review Length\")\n",
    "plt.ylabel(\"Frequency\")\n",
    "plt.title(\"Train Dataset - Review Length Distribution\")\n",
    "\n",
    "# For Test Dataset\n",
    "plt.figure(figsize=(6,4))\n",
    "plt.hist(test_df['review_length'], bins = 50, color = 'orange')\n",
    "plt.xlabel(\"Review Length\")\n",
    "plt.ylabel(\"Frequency\")\n",
    "plt.title(\"Test Dataset - Review Length Distribution\")\n",
    "\n",
    "plt.tight_layout()\n",
    "plt.show()\n"
   ]
  },
  {
   "cell_type": "code",
   "execution_count": null,
   "metadata": {
    "colab": {
     "base_uri": "https://localhost:8080/",
     "height": 800
    },
    "executionInfo": {
     "elapsed": 257,
     "status": "ok",
     "timestamp": 1747411176107,
     "user": {
      "displayName": "tùng bùi sơn",
      "userId": "16113988612539348042"
     },
     "user_tz": -600
    },
    "id": "ZZdFjxHGD_4u",
    "outputId": "29fefd89-ac17-4001-c4fc-2533d0e728d7"
   },
   "outputs": [
    {
     "data": {
      "image/png": "[encoded data removed]",
      "text/plain": [
       "<Figure size 600x400 with 1 Axes>"
      ]
     },
     "metadata": {},
     "output_type": "display_data"
    },
    {
     "data": {
      "image/png": "[encoded data removed]",
      "text/plain": [
       "<Figure size 600x400 with 1 Axes>"
      ]
     },
     "metadata": {},
     "output_type": "display_data"
    }
   ],
   "source": [
    "# Plot histogram of Rating\n",
    "# For Train Dataset\n",
    "plt.figure(figsize=(6,4))\n",
    "plt.hist(train_df['rating'], bins = 50, color = 'blue')\n",
    "plt.xlabel(\"Review Length\")\n",
    "plt.ylabel(\"Frequency\")\n",
    "plt.title(\"Train Dataset - Rating Distribution\")\n",
    "\n",
    "# For Test Dataset\n",
    "plt.figure(figsize=(6,4))\n",
    "plt.hist(test_df['rating'], bins = 50, color = 'orange')\n",
    "plt.xlabel(\"Review Length\")\n",
    "plt.ylabel(\"Frequency\")\n",
    "plt.title(\"Test Dataset - Rating Distribution\")\n",
    "\n",
    "plt.tight_layout()\n",
    "plt.show()\n"
   ]
  },
  {
   "cell_type": "code",
   "execution_count": null,
   "metadata": {
    "colab": {
     "base_uri": "https://localhost:8080/"
    },
    "executionInfo": {
     "elapsed": 15,
     "status": "ok",
     "timestamp": 1747411176120,
     "user": {
      "displayName": "tùng bùi sơn",
      "userId": "16113988612539348042"
     },
     "user_tz": -600
    },
    "id": "QH1xBKvAE8Ah",
    "outputId": "8a714bf9-48ec-4e72-a90d-8ee149c2aa5a"
   },
   "outputs": [
    {
     "name": "stdout",
     "output_type": "stream",
     "text": [
      "Missing values in Train Dataset:\n",
      "review           0\n",
      "rating           0\n",
      "review_length    0\n",
      "dtype: int64\n",
      "Missing values in Test Dataset:\n",
      "review           0\n",
      "rating           0\n",
      "review_length    0\n",
      "dtype: int64\n"
     ]
    }
   ],
   "source": [
    "# Check missing value. If have missing value → delete the row have missing value.\n",
    "# Missing Values in Train Dataset\n",
    "print(\"Missing values in Train Dataset:\")\n",
    "print(train_df.isna().sum())\n",
    "\n",
    "# Missing Values in Test Dataset\n",
    "print(\"Missing values in Test Dataset:\")\n",
    "print(test_df.isna().sum())\n"
   ]
  },
  {
   "cell_type": "code",
   "execution_count": null,
   "metadata": {
    "colab": {
     "base_uri": "https://localhost:8080/"
    },
    "executionInfo": {
     "elapsed": 63,
     "status": "ok",
     "timestamp": 1747411176191,
     "user": {
      "displayName": "tùng bùi sơn",
      "userId": "16113988612539348042"
     },
     "user_tz": -600
    },
    "id": "4IYtDXxdF5F-",
    "outputId": "74ecedfa-5167-4bba-9eb3-9a62b73bf5f2"
   },
   "outputs": [
    {
     "name": "stdout",
     "output_type": "stream",
     "text": [
      "Train Dataset:\n",
      "        rating Sentiment\n",
      "206461     9.0  Positive\n",
      "95260      8.0  Positive\n",
      "92703      5.0   Neutral\n",
      "138000     8.0  Positive\n",
      "35696      9.0  Positive\n",
      "Test_Dataset:\n",
      "        rating Sentiment\n",
      "163740    10.0  Positive\n",
      "206473     8.0  Positive\n",
      "159672     9.0  Positive\n",
      "39293      9.0  Positive\n",
      "97768      9.0  Positive\n"
     ]
    }
   ],
   "source": [
    "# - Create new column named “Sentiment” which based on the rating. The rule is: 1-4: Negative, 5-7: Neutral, 8-10: Positive\n",
    "\n",
    "# Firstly, define a function to classify sentiment based on rating\n",
    "def sentiment(rating):\n",
    "  if rating >= 1 and rating <= 4:\n",
    "    return 'Negative'\n",
    "  elif rating >= 5 and rating <=6:\n",
    "    return 'Neutral'\n",
    "  elif rating >= 7 and rating <= 10:\n",
    "    return 'Positive'\n",
    "\n",
    "# Apply the function to the 'rating' column to create a new 'Sentiment' column\n",
    "train_df['Sentiment'] = train_df['rating'].apply(sentiment)\n",
    "test_df['Sentiment'] = test_df['rating'].apply(sentiment)\n",
    "\n",
    "print(\"Train Dataset:\")\n",
    "print(train_df[['rating', 'Sentiment']].head())\n",
    "\n",
    "print(\"Test_Dataset:\")\n",
    "print(test_df[['rating', 'Sentiment']].head())"
   ]
  },
  {
   "cell_type": "code",
   "execution_count": null,
   "metadata": {
    "colab": {
     "base_uri": "https://localhost:8080/",
     "height": 419
    },
    "executionInfo": {
     "elapsed": 793,
     "status": "ok",
     "timestamp": 1747411176992,
     "user": {
      "displayName": "tùng bùi sơn",
      "userId": "16113988612539348042"
     },
     "user_tz": -600
    },
    "id": "2wtkVaZBasy0",
    "outputId": "c46ac80b-8ca1-4963-da1e-9a7f78cbb80d"
   },
   "outputs": [
    {
     "data": {
      "application/vnd.google.colaboratory.intrinsic+json": {
       "summary": "{\n  \"name\": \"test_df\",\n  \"rows\": 53766,\n  \"fields\": [\n    {\n      \"column\": \"review\",\n      \"properties\": {\n        \"dtype\": \"string\",\n        \"num_unique_values\": 48280,\n        \"samples\": [\n          \"\\\"800 mg of tegretol and still in pain\\\"\",\n          \"\\\"my hubby has been on the  med since Sept 2015.   It is not working..  they  put him on the Gaba to remove the morphine.  In the last 4 weeks  by 11pm he is wide awake in pain and in tears.  In the last 2 weeks the heavy pressure on  his right side just below the shoulder is worse each time.  He has developed a cold  that will not go away  starting in Nov. We see the Doc on Feb 3rd. He is taking a sleep aid  and med for really bad  headaches.  I am  so  afraid of what will happen when  the next dose falls.   We have been married for 24 years.  He  has had problems with drugs and drink all his life  from 9 years of age on..  yep   .. people  9 years of age..  Started smoking pot and drinking.. \\\"\",\n          \"\\\"So I was prescribed this medication a while ago, but I basically gave up every time things got painful. That for me, was about 5th day in. I&#039;d been told to persevere and that the pain and dryness would stop after the first 2 weeks. But I decided to only use it when I had breakouts. However, this medication brings out the acne before clearing it, so of course your acne is going to get worse before it gets better. \\r\\r\\n\\r\\r\\nHOWEVER, I now use it everyday. I have very sensitive skin so I can&#039;t use a lot of moisturisers because they burn. But I&#039;m using some Garnier moisturiser and an oil based one from lush whenever my skin feels a little dry, and I have not had a painful night since. And no extreme dryness or flaking either. Brilliant!\\\"\"\n        ],\n        \"semantic_type\": \"\",\n        \"description\": \"\"\n      }\n    },\n    {\n      \"column\": \"rating\",\n      \"properties\": {\n        \"dtype\": \"number\",\n        \"std\": 3.2852069303170555,\n        \"min\": 1.0,\n        \"max\": 10.0,\n        \"num_unique_values\": 10,\n        \"samples\": [\n          3.0,\n          8.0,\n          7.0\n        ],\n        \"semantic_type\": \"\",\n        \"description\": \"\"\n      }\n    },\n    {\n      \"column\": \"review_length\",\n      \"properties\": {\n        \"dtype\": \"number\",\n        \"std\": 237,\n        \"min\": 3,\n        \"max\": 6192,\n        \"num_unique_values\": 944,\n        \"samples\": [\n          777,\n          285,\n          111\n        ],\n        \"semantic_type\": \"\",\n        \"description\": \"\"\n      }\n    },\n    {\n      \"column\": \"Sentiment\",\n      \"properties\": {\n        \"dtype\": \"category\",\n        \"num_unique_values\": 3,\n        \"samples\": [\n          \"Positive\",\n          \"Negative\",\n          \"Neutral\"\n        ],\n        \"semantic_type\": \"\",\n        \"description\": \"\"\n      }\n    }\n  ]\n}",
       "type": "dataframe",
       "variable_name": "test_df"
      },
      "text/html": [
       "\n",
       "  <div id=\"df-1a468eea-d560-41f1-8bfd-78ef572a5b66\" class=\"colab-df-container\">\n",
       "    <div>\n",
       "<style scoped>\n",
       "    .dataframe tbody tr th:only-of-type {\n",
       "        vertical-align: middle;\n",
       "    }\n",
       "\n",
       "    .dataframe tbody tr th {\n",
       "        vertical-align: top;\n",
       "    }\n",
       "\n",
       "    .dataframe thead th {\n",
       "        text-align: right;\n",
       "    }\n",
       "</style>\n",
       "<table border=\"1\" class=\"dataframe\">\n",
       "  <thead>\n",
       "    <tr style=\"text-align: right;\">\n",
       "      <th></th>\n",
       "      <th>review</th>\n",
       "      <th>rating</th>\n",
       "      <th>review_length</th>\n",
       "      <th>Sentiment</th>\n",
       "    </tr>\n",
       "  </thead>\n",
       "  <tbody>\n",
       "    <tr>\n",
       "      <th>163740</th>\n",
       "      <td>\"I&amp;#039;ve tried a few antidepressants over th...</td>\n",
       "      <td>10.0</td>\n",
       "      <td>439</td>\n",
       "      <td>Positive</td>\n",
       "    </tr>\n",
       "    <tr>\n",
       "      <th>206473</th>\n",
       "      <td>\"My son has Crohn&amp;#039;s disease and has done ...</td>\n",
       "      <td>8.0</td>\n",
       "      <td>268</td>\n",
       "      <td>Positive</td>\n",
       "    </tr>\n",
       "    <tr>\n",
       "      <th>159672</th>\n",
       "      <td>\"Quick reduction of symptoms\"</td>\n",
       "      <td>9.0</td>\n",
       "      <td>29</td>\n",
       "      <td>Positive</td>\n",
       "    </tr>\n",
       "    <tr>\n",
       "      <th>39293</th>\n",
       "      <td>\"Contrave combines drugs that were used for al...</td>\n",
       "      <td>9.0</td>\n",
       "      <td>782</td>\n",
       "      <td>Positive</td>\n",
       "    </tr>\n",
       "    <tr>\n",
       "      <th>97768</th>\n",
       "      <td>\"I have been on this birth control for one cyc...</td>\n",
       "      <td>9.0</td>\n",
       "      <td>762</td>\n",
       "      <td>Positive</td>\n",
       "    </tr>\n",
       "    <tr>\n",
       "      <th>...</th>\n",
       "      <td>...</td>\n",
       "      <td>...</td>\n",
       "      <td>...</td>\n",
       "      <td>...</td>\n",
       "    </tr>\n",
       "    <tr>\n",
       "      <th>159999</th>\n",
       "      <td>\"I have taken Tamoxifen for 5 years. Side effe...</td>\n",
       "      <td>10.0</td>\n",
       "      <td>533</td>\n",
       "      <td>Positive</td>\n",
       "    </tr>\n",
       "    <tr>\n",
       "      <th>140714</th>\n",
       "      <td>\"I&amp;#039;ve been taking Lexapro (escitaploprgra...</td>\n",
       "      <td>9.0</td>\n",
       "      <td>763</td>\n",
       "      <td>Positive</td>\n",
       "    </tr>\n",
       "    <tr>\n",
       "      <th>130945</th>\n",
       "      <td>\"I&amp;#039;m married, 34 years old and I have no ...</td>\n",
       "      <td>8.0</td>\n",
       "      <td>780</td>\n",
       "      <td>Positive</td>\n",
       "    </tr>\n",
       "    <tr>\n",
       "      <th>47656</th>\n",
       "      <td>\"I was prescribed Nucynta for severe neck/shou...</td>\n",
       "      <td>1.0</td>\n",
       "      <td>200</td>\n",
       "      <td>Negative</td>\n",
       "    </tr>\n",
       "    <tr>\n",
       "      <th>113712</th>\n",
       "      <td>\"It works!!!\"</td>\n",
       "      <td>9.0</td>\n",
       "      <td>13</td>\n",
       "      <td>Positive</td>\n",
       "    </tr>\n",
       "  </tbody>\n",
       "</table>\n",
       "<p>53766 rows × 4 columns</p>\n",
       "</div>\n",
       "    <div class=\"colab-df-buttons\">\n",
       "\n",
       "  <div class=\"colab-df-container\">\n",
       "    <button class=\"colab-df-convert\" onclick=\"convertToInteractive('df-1a468eea-d560-41f1-8bfd-78ef572a5b66')\"\n",
       "            title=\"Convert this dataframe to an interactive table.\"\n",
       "            style=\"display:none;\">\n",
       "\n",
       "  <svg xmlns=\"http://www.w3.org/2000/svg\" height=\"24px\" viewBox=\"0 -960 960 960\">\n",
       "    <path d=\"M120-120v-720h720v720H120Zm60-500h600v-160H180v160Zm220 220h160v-160H400v160Zm0 220h160v-160H400v160ZM180-400h160v-160H180v160Zm440 0h160v-160H620v160ZM180-180h160v-160H180v160Zm440 0h160v-160H620v160Z\"/>\n",
       "  </svg>\n",
       "    </button>\n",
       "\n",
       "  <style>\n",
       "    .colab-df-container {\n",
       "      display:flex;\n",
       "      gap: 12px;\n",
       "    }\n",
       "\n",
       "    .colab-df-convert {\n",
       "      background-color: #E8F0FE;\n",
       "      border: none;\n",
       "      border-radius: 50%;\n",
       "      cursor: pointer;\n",
       "      display: none;\n",
       "      fill: #1967D2;\n",
       "      height: 32px;\n",
       "      padding: 0 0 0 0;\n",
       "      width: 32px;\n",
       "    }\n",
       "\n",
       "    .colab-df-convert:hover {\n",
       "      background-color: #E2EBFA;\n",
       "      box-shadow: 0px 1px 2px rgba(60, 64, 67, 0.3), 0px 1px 3px 1px rgba(60, 64, 67, 0.15);\n",
       "      fill: #174EA6;\n",
       "    }\n",
       "\n",
       "    .colab-df-buttons div {\n",
       "      margin-bottom: 4px;\n",
       "    }\n",
       "\n",
       "    [theme=dark] .colab-df-convert {\n",
       "      background-color: #3B4455;\n",
       "      fill: #D2E3FC;\n",
       "    }\n",
       "\n",
       "    [theme=dark] .colab-df-convert:hover {\n",
       "      background-color: #434B5C;\n",
       "      box-shadow: 0px 1px 3px 1px rgba(0, 0, 0, 0.15);\n",
       "      filter: drop-shadow(0px 1px 2px rgba(0, 0, 0, 0.3));\n",
       "      fill: #FFFFFF;\n",
       "    }\n",
       "  </style>\n",
       "\n",
       "    <script>\n",
       "      const buttonEl =\n",
       "        document.querySelector('#df-1a468eea-d560-41f1-8bfd-78ef572a5b66 button.colab-df-convert');\n",
       "      buttonEl.style.display =\n",
       "        google.colab.kernel.accessAllowed ? 'block' : 'none';\n",
       "\n",
       "      async function convertToInteractive(key) {\n",
       "        const element = document.querySelector('#df-1a468eea-d560-41f1-8bfd-78ef572a5b66');\n",
       "        const dataTable =\n",
       "          await google.colab.kernel.invokeFunction('convertToInteractive',\n",
       "                                                    [key], {});\n",
       "        if (!dataTable) return;\n",
       "\n",
       "        const docLinkHtml = 'Like what you see? Visit the ' +\n",
       "          '<a target=\"_blank\" href=https://colab.research.google.com/notebooks/data_table.ipynb>data table notebook</a>'\n",
       "          + ' to learn more about interactive tables.';\n",
       "        element.innerHTML = '';\n",
       "        dataTable['output_type'] = 'display_data';\n",
       "        await google.colab.output.renderOutput(dataTable, element);\n",
       "        const docLink = document.createElement('div');\n",
       "        docLink.innerHTML = docLinkHtml;\n",
       "        element.appendChild(docLink);\n",
       "      }\n",
       "    </script>\n",
       "  </div>\n",
       "\n",
       "\n",
       "    <div id=\"df-4213555e-e9ea-4791-98d2-df3a7ac8bb55\">\n",
       "      <button class=\"colab-df-quickchart\" onclick=\"quickchart('df-4213555e-e9ea-4791-98d2-df3a7ac8bb55')\"\n",
       "                title=\"Suggest charts\"\n",
       "                style=\"display:none;\">\n",
       "\n",
       "<svg xmlns=\"http://www.w3.org/2000/svg\" height=\"24px\"viewBox=\"0 0 24 24\"\n",
       "     width=\"24px\">\n",
       "    <g>\n",
       "        <path d=\"M19 3H5c-1.1 0-2 .9-2 2v14c0 1.1.9 2 2 2h14c1.1 0 2-.9 2-2V5c0-1.1-.9-2-2-2zM9 17H7v-7h2v7zm4 0h-2V7h2v10zm4 0h-2v-4h2v4z\"/>\n",
       "    </g>\n",
       "</svg>\n",
       "      </button>\n",
       "\n",
       "<style>\n",
       "  .colab-df-quickchart {\n",
       "      --bg-color: #E8F0FE;\n",
       "      --fill-color: #1967D2;\n",
       "      --hover-bg-color: #E2EBFA;\n",
       "      --hover-fill-color: #174EA6;\n",
       "      --disabled-fill-color: #AAA;\n",
       "      --disabled-bg-color: #DDD;\n",
       "  }\n",
       "\n",
       "  [theme=dark] .colab-df-quickchart {\n",
       "      --bg-color: #3B4455;\n",
       "      --fill-color: #D2E3FC;\n",
       "      --hover-bg-color: #434B5C;\n",
       "      --hover-fill-color: #FFFFFF;\n",
       "      --disabled-bg-color: #3B4455;\n",
       "      --disabled-fill-color: #666;\n",
       "  }\n",
       "\n",
       "  .colab-df-quickchart {\n",
       "    background-color: var(--bg-color);\n",
       "    border: none;\n",
       "    border-radius: 50%;\n",
       "    cursor: pointer;\n",
       "    display: none;\n",
       "    fill: var(--fill-color);\n",
       "    height: 32px;\n",
       "    padding: 0;\n",
       "    width: 32px;\n",
       "  }\n",
       "\n",
       "  .colab-df-quickchart:hover {\n",
       "    background-color: var(--hover-bg-color);\n",
       "    box-shadow: 0 1px 2px rgba(60, 64, 67, 0.3), 0 1px 3px 1px rgba(60, 64, 67, 0.15);\n",
       "    fill: var(--button-hover-fill-color);\n",
       "  }\n",
       "\n",
       "  .colab-df-quickchart-complete:disabled,\n",
       "  .colab-df-quickchart-complete:disabled:hover {\n",
       "    background-color: var(--disabled-bg-color);\n",
       "    fill: var(--disabled-fill-color);\n",
       "    box-shadow: none;\n",
       "  }\n",
       "\n",
       "  .colab-df-spinner {\n",
       "    border: 2px solid var(--fill-color);\n",
       "    border-color: transparent;\n",
       "    border-bottom-color: var(--fill-color);\n",
       "    animation:\n",
       "      spin 1s steps(1) infinite;\n",
       "  }\n",
       "\n",
       "  @keyframes spin {\n",
       "    0% {\n",
       "      border-color: transparent;\n",
       "      border-bottom-color: var(--fill-color);\n",
       "      border-left-color: var(--fill-color);\n",
       "    }\n",
       "    20% {\n",
       "      border-color: transparent;\n",
       "      border-left-color: var(--fill-color);\n",
       "      border-top-color: var(--fill-color);\n",
       "    }\n",
       "    30% {\n",
       "      border-color: transparent;\n",
       "      border-left-color: var(--fill-color);\n",
       "      border-top-color: var(--fill-color);\n",
       "      border-right-color: var(--fill-color);\n",
       "    }\n",
       "    40% {\n",
       "      border-color: transparent;\n",
       "      border-right-color: var(--fill-color);\n",
       "      border-top-color: var(--fill-color);\n",
       "    }\n",
       "    60% {\n",
       "      border-color: transparent;\n",
       "      border-right-color: var(--fill-color);\n",
       "    }\n",
       "    80% {\n",
       "      border-color: transparent;\n",
       "      border-right-color: var(--fill-color);\n",
       "      border-bottom-color: var(--fill-color);\n",
       "    }\n",
       "    90% {\n",
       "      border-color: transparent;\n",
       "      border-bottom-color: var(--fill-color);\n",
       "    }\n",
       "  }\n",
       "</style>\n",
       "\n",
       "      <script>\n",
       "        async function quickchart(key) {\n",
       "          const quickchartButtonEl =\n",
       "            document.querySelector('#' + key + ' button');\n",
       "          quickchartButtonEl.disabled = true;  // To prevent multiple clicks.\n",
       "          quickchartButtonEl.classList.add('colab-df-spinner');\n",
       "          try {\n",
       "            const charts = await google.colab.kernel.invokeFunction(\n",
       "                'suggestCharts', [key], {});\n",
       "          } catch (error) {\n",
       "            console.error('Error during call to suggestCharts:', error);\n",
       "          }\n",
       "          quickchartButtonEl.classList.remove('colab-df-spinner');\n",
       "          quickchartButtonEl.classList.add('colab-df-quickchart-complete');\n",
       "        }\n",
       "        (() => {\n",
       "          let quickchartButtonEl =\n",
       "            document.querySelector('#df-4213555e-e9ea-4791-98d2-df3a7ac8bb55 button');\n",
       "          quickchartButtonEl.style.display =\n",
       "            google.colab.kernel.accessAllowed ? 'block' : 'none';\n",
       "        })();\n",
       "      </script>\n",
       "    </div>\n",
       "\n",
       "  <div id=\"id_ae4eaf3a-9af4-4107-aa95-cf6d2c290700\">\n",
       "    <style>\n",
       "      .colab-df-generate {\n",
       "        background-color: #E8F0FE;\n",
       "        border: none;\n",
       "        border-radius: 50%;\n",
       "        cursor: pointer;\n",
       "        display: none;\n",
       "        fill: #1967D2;\n",
       "        height: 32px;\n",
       "        padding: 0 0 0 0;\n",
       "        width: 32px;\n",
       "      }\n",
       "\n",
       "      .colab-df-generate:hover {\n",
       "        background-color: #E2EBFA;\n",
       "        box-shadow: 0px 1px 2px rgba(60, 64, 67, 0.3), 0px 1px 3px 1px rgba(60, 64, 67, 0.15);\n",
       "        fill: #174EA6;\n",
       "      }\n",
       "\n",
       "      [theme=dark] .colab-df-generate {\n",
       "        background-color: #3B4455;\n",
       "        fill: #D2E3FC;\n",
       "      }\n",
       "\n",
       "      [theme=dark] .colab-df-generate:hover {\n",
       "        background-color: #434B5C;\n",
       "        box-shadow: 0px 1px 3px 1px rgba(0, 0, 0, 0.15);\n",
       "        filter: drop-shadow(0px 1px 2px rgba(0, 0, 0, 0.3));\n",
       "        fill: #FFFFFF;\n",
       "      }\n",
       "    </style>\n",
       "    <button class=\"colab-df-generate\" onclick=\"generateWithVariable('test_df')\"\n",
       "            title=\"Generate code using this dataframe.\"\n",
       "            style=\"display:none;\">\n",
       "\n",
       "  <svg xmlns=\"http://www.w3.org/2000/svg\" height=\"24px\"viewBox=\"0 0 24 24\"\n",
       "       width=\"24px\">\n",
       "    <path d=\"M7,19H8.4L18.45,9,17,7.55,7,17.6ZM5,21V16.75L18.45,3.32a2,2,0,0,1,2.83,0l1.4,1.43a1.91,1.91,0,0,1,.58,1.4,1.91,1.91,0,0,1-.58,1.4L9.25,21ZM18.45,9,17,7.55Zm-12,3A5.31,5.31,0,0,0,4.9,8.1,5.31,5.31,0,0,0,1,6.5,5.31,5.31,0,0,0,4.9,4.9,5.31,5.31,0,0,0,6.5,1,5.31,5.31,0,0,0,8.1,4.9,5.31,5.31,0,0,0,12,6.5,5.46,5.46,0,0,0,6.5,12Z\"/>\n",
       "  </svg>\n",
       "    </button>\n",
       "    <script>\n",
       "      (() => {\n",
       "      const buttonEl =\n",
       "        document.querySelector('#id_ae4eaf3a-9af4-4107-aa95-cf6d2c290700 button.colab-df-generate');\n",
       "      buttonEl.style.display =\n",
       "        google.colab.kernel.accessAllowed ? 'block' : 'none';\n",
       "\n",
       "      buttonEl.onclick = () => {\n",
       "        google.colab.notebook.generateWithVariable('test_df');\n",
       "      }\n",
       "      })();\n",
       "    </script>\n",
       "  </div>\n",
       "\n",
       "    </div>\n",
       "  </div>\n"
      ],
      "text/plain": [
       "                                                   review  rating  \\\n",
       "163740  \"I&#039;ve tried a few antidepressants over th...    10.0   \n",
       "206473  \"My son has Crohn&#039;s disease and has done ...     8.0   \n",
       "159672                      \"Quick reduction of symptoms\"     9.0   \n",
       "39293   \"Contrave combines drugs that were used for al...     9.0   \n",
       "97768   \"I have been on this birth control for one cyc...     9.0   \n",
       "...                                                   ...     ...   \n",
       "159999  \"I have taken Tamoxifen for 5 years. Side effe...    10.0   \n",
       "140714  \"I&#039;ve been taking Lexapro (escitaploprgra...     9.0   \n",
       "130945  \"I&#039;m married, 34 years old and I have no ...     8.0   \n",
       "47656   \"I was prescribed Nucynta for severe neck/shou...     1.0   \n",
       "113712                                      \"It works!!!\"     9.0   \n",
       "\n",
       "        review_length Sentiment  \n",
       "163740            439  Positive  \n",
       "206473            268  Positive  \n",
       "159672             29  Positive  \n",
       "39293             782  Positive  \n",
       "97768             762  Positive  \n",
       "...               ...       ...  \n",
       "159999            533  Positive  \n",
       "140714            763  Positive  \n",
       "130945            780  Positive  \n",
       "47656             200  Negative  \n",
       "113712             13  Positive  \n",
       "\n",
       "[53766 rows x 4 columns]"
      ]
     },
     "execution_count": 13,
     "metadata": {},
     "output_type": "execute_result"
    }
   ],
   "source": [
    "test_df"
   ]
  },
  {
   "cell_type": "markdown",
   "metadata": {
    "id": "zAQia4iPH0ts"
   },
   "source": [
    "### Evaluate the model performance with the test dataset"
   ]
  },
  {
   "cell_type": "code",
   "execution_count": null,
   "metadata": {
    "colab": {
     "base_uri": "https://localhost:8080/"
    },
    "executionInfo": {
     "elapsed": 52719,
     "status": "ok",
     "timestamp": 1747411300976,
     "user": {
      "displayName": "tùng bùi sơn",
      "userId": "16113988612539348042"
     },
     "user_tz": -600
    },
    "id": "XzKjbVNBK11G",
    "outputId": "8cb8c61b-1d96-4a0f-da2e-fbf3a170ea82"
   },
   "outputs": [
    {
     "name": "stdout",
     "output_type": "stream",
     "text": [
      "==((====))==  Unsloth 2025.5.4: Fast Mistral patching. Transformers: 4.51.3.\n",
      "   \\\\   /|    Tesla T4. Num GPUs = 1. Max memory: 14.741 GB. Platform: Linux.\n",
      "O^O/ \\_/ \\    Torch: 2.6.0+cu124. CUDA: 7.5. CUDA Toolkit: 12.4. Triton: 3.2.0\n",
      "\\        /    Bfloat16 = FALSE. FA [Xformers = 0.0.29.post3. FA2 = False]\n",
      " \"-____-\"     Free license: http://github.com/unslothai/unsloth\n",
      "Unsloth: Fast downloading is enabled - ignore downloading bars which are red colored!\n"
     ]
    }
   ],
   "source": [
    "from unsloth import FastLanguageModel\n",
    "import torch\n",
    "max_seq_length = 2048\n",
    "dtype = None # None for auto detection. Float16 for Tesla T4, V100, Bfloat16 for Ampere+\n",
    "load_in_4bit = True # Use 4bit quantization to reduce memory usage. Can be False.\n",
    "\n",
    "model, tokenizer = FastLanguageModel.from_pretrained(\n",
    "    model_name = \"unsloth/mistral-7b-instruct-v0.3-bnb-4bit\",\n",
    "    dtype = dtype,\n",
    "    load_in_4bit = load_in_4bit,\n",
    ")"
   ]
  },
  {
   "cell_type": "code",
   "execution_count": null,
   "metadata": {
    "id": "E-ZIxsfma-b4"
   },
   "outputs": [],
   "source": [
    "import re\n",
    "\n",
    "def input_prompt(input_text, type=\"few_shot\"):\n",
    "  if type == \"few_shot\":\n",
    "    prompt = f\"\"\"[INST]\n",
    "You are an expert in analyzing sentiment from drug reviews. Your task is to classify a given drug review as **Positive, Negative, or Neutral** based on the user's experience.\n",
    "\n",
    "### **Criteria for Sentiment Classification:**\n",
    "- **Positive**: The review expresses satisfaction with the drug, mentioning effectiveness, relief from symptoms, or minimal side effects.\n",
    "- **Negative**: The review expresses dissatisfaction, describing strong side effects, lack of effectiveness, or worsening of the condition.\n",
    "- **Neutral**: The review is mixed or inconclusive, mentioning both pros and cons without strong emotions, or if the experience is unclear.\n",
    "\n",
    "### **Only return one of the following labels: Positive, Negative, or Neutral. Do not provide explanations.\n",
    "\n",
    "### **Examples:**\n",
    "\n",
    "#### **Example 1:**\n",
    "**Review:** \"This medication completely stopped my migraines within a week. I haven't had a single headache since!\"\n",
    "**Sentiment:** Positive\n",
    "\n",
    "#### **Example 2:**\n",
    "**Review:** \"I had high hopes, but this drug didn’t help my pain at all. On top of that, I had severe nausea.\"\n",
    "**Sentiment:** Negative\n",
    "\n",
    "#### **Example 3:**\n",
    "**Review:** \"The drug helped somewhat with my anxiety, but I still experience occasional panic attacks. No major side effects so far.\"\n",
    "**Sentiment:** Neutral\n",
    "\n",
    "---\n",
    "\n",
    "### **Now classify the following review:**\n",
    "**Review:** \"{input_text}\"\n",
    "**Sentiment:**\n",
    "[/INST]\"\"\"\n",
    "  else:\n",
    "    prompt = f\"\"\"[INST]\n",
    "You are an expert in analyzing sentiment from drug reviews. Your task is to classify a given drug review as **Positive, Negative, or Neutral** based on the user's experience.\n",
    "\n",
    "### **Criteria for Sentiment Classification:**\n",
    "- **Positive**: The review expresses satisfaction with the drug, mentioning effectiveness, relief from symptoms, or minimal side effects.\n",
    "- **Negative**: The review expresses dissatisfaction, describing strong side effects, lack of effectiveness, or worsening of the condition.\n",
    "- **Neutral**: The review is mixed or inconclusive, mentioning both pros and cons without strong emotions, or if the experience is unclear.\n",
    "\n",
    "### **Only return one of the following labels: Positive, Negative, or Neutral. Do not provide explanations.**\n",
    "\n",
    "---\n",
    "\n",
    "### **Classify the sentiment of the following review:**\n",
    "**Review:** \"{input_text}\"\n",
    "**Sentiment:**\n",
    "[/INST]\"\"\"\n",
    "  return prompt\n",
    "\n",
    "def inference_model(input_text, model, tokenizer, type=\"few_shot\", temperature=0.5):\n",
    "  prompt = input_prompt(input_text, type=type)\n",
    "\n",
    "  device = torch.device('cuda' if torch.cuda.is_available() else 'cpu')\n",
    "\n",
    "  encodeds = tokenizer(prompt, return_tensors=\"pt\", add_special_tokens=False)\n",
    "  model_inputs = encodeds.to(device)\n",
    "\n",
    "  generated_ids = model.generate(**model_inputs, max_new_tokens=200, do_sample=False, temperature=temperature)\n",
    "\n",
    "  decoded = tokenizer.batch_decode(generated_ids,skip_special_tokens=True)\n",
    "  # print(decoded[0])\n",
    "\n",
    "  # Get the output only instead of whole prompt\n",
    "  match = re.search(r'\\*\\*Sentiment:\\*\\*\\s*(\\w+)', decoded[0][len(prompt)-40:])\n",
    "  return match.group(1) if match else None"
   ]
  },
  {
   "cell_type": "code",
   "execution_count": null,
   "metadata": {
    "colab": {
     "base_uri": "https://localhost:8080/"
    },
    "executionInfo": {
     "elapsed": 808,
     "status": "ok",
     "timestamp": 1747411693952,
     "user": {
      "displayName": "tùng bùi sơn",
      "userId": "16113988612539348042"
     },
     "user_tz": -600
    },
    "id": "AfSQHwWjbk3f",
    "outputId": "a95077b3-d7b8-4bc8-c950-688e6bda63de"
   },
   "outputs": [
    {
     "name": "stdout",
     "output_type": "stream",
     "text": [
      "Positive\n"
     ]
    }
   ],
   "source": [
    "input_text = 'This drug is pretty amazing. I&#039;ve had hyperhydrosis of the palms, soles and underarms since hitting puberty. I was skeptic since I&#039;ve previously tried botox, iontophoresis and drysol with limited results. However, after three days of taking oxybutynin (5mg 3x a day) I was 95% sweat-free. My only negative things to say about the drug is about side effects. I have gotten fairly dizzy/spaced out a few times, and I experience dry mouth pretty often. However, that&#039;s not bad in comparison to the acne I&#039;ve gotten. I used to get pimples around once a month, however now I have ones lasting for &lt;6 wks, varying in size/colour. I constantly have groups of acne on my face. Does anyone have any remedies? I&#039;ve tried acne masks, cleansers and tea tree oil.'\n",
    "predict_sentiment = inference_model(input_text = input_text, model = model, tokenizer=tokenizer)\n",
    "print(predict_sentiment)"
   ]
  },
  {
   "cell_type": "code",
   "execution_count": null,
   "metadata": {
    "id": "VoDnpKCQfTKa"
   },
   "outputs": [],
   "source": [
    "# Process each row\n",
    "def run_experiment(test_df, type='few_shot', temperature=0.5):\n",
    "  test_df = test_df.copy()\n",
    "  test_df['Predict_sentiment'] = None\n",
    "\n",
    "  save_path = f\"/content/drive/MyDrive/shin_colab/{type}_prompt_{temperature}.csv\"\n",
    "\n",
    "  latencies = []  # Store inference times\n",
    "  start_time = time.time()  # Start tracking total processing time\n",
    "  process = psutil.Process()  # Track memory usage\n",
    "  total_samples = 0  # Track number of processed reviews\n",
    "\n",
    "  for index, row in tqdm(test_df.iloc[:500].iterrows(), total=500):\n",
    "      if pd.isna(row['Predict_sentiment']):  # Process only if not already done\n",
    "          input_text = test_df.at[index, \"review\"]\n",
    "\n",
    "          # Measure inference latency\n",
    "          inference_start = time.time()\n",
    "          test_df.at[index, 'Predict_sentiment'] = inference_model(input_text=input_text, model=model, tokenizer=tokenizer,\n",
    "                                                                   type=type, temperature=temperature)\n",
    "          inference_end = time.time()\n",
    "\n",
    "          # Compute latency and store it\n",
    "          latency = inference_end - inference_start\n",
    "          latencies.append(latency)\n",
    "\n",
    "          GT = test_df.at[index, 'Sentiment']\n",
    "          # print(f\"Review number {index}: {input_text} have GT {GT} and predict {test_df.at[index, 'Predict_sentiment']}\")\n",
    "          # Save after processing each row\n",
    "          test_df.to_csv(save_path, index=False)\n",
    "          # print(f\"Row {index} processed and saved.\")\n",
    "\n",
    "          # Increment processed sample count\n",
    "          total_samples += 1\n",
    "\n",
    "\n",
    "\n",
    "  total_time = time.time() - start_time\n",
    "  avg_latency = sum(latencies) / len(latencies)\n",
    "  throughput = len(latencies) / total_time  # Reviews per second\n",
    "  memory_usage = process.memory_info().rss / (1024 * 1024)  # Convert bytes to MB\n",
    "\n",
    "  new_test_df = pd.read_csv(save_path)\n",
    "\n",
    "  # Select the first 500 rows\n",
    "  new_test_df_copy = new_test_df.iloc[:500].copy()  # Use .copy() to avoid SettingWithCopyWarning\n",
    "\n",
    "\n",
    "  y_pred = list(new_test_df_copy['Predict_sentiment'])\n",
    "  y_true = list(new_test_df_copy['Sentiment'])\n",
    "\n",
    "\n",
    "  # Compute classification metrics\n",
    "  accuracy = accuracy_score(y_true, y_pred)\n",
    "  precision = precision_score(y_true, y_pred, average='macro')\n",
    "  recall = recall_score(y_true, y_pred, average='macro')\n",
    "  f1 = f1_score(y_true, y_pred, average='macro')\n",
    "\n",
    "  print(\"\\n=== Model Performance Metrics ===\")\n",
    "  print(f\"Accuracy: {accuracy:.2f}\")\n",
    "  print(f\"Precision (Macro): {precision:.2f}\")\n",
    "  print(f\"Recall (Macro): {recall:.2f}\")\n",
    "  print(f\"F1-Score (Macro): {f1:.2f}\")\n",
    "\n",
    "  print(classification_report(y_true, y_pred))\n",
    "\n",
    "  conf_matrix = confusion_matrix(y_true, y_pred)\n",
    "\n",
    "  plt.figure(figsize=(6, 5))\n",
    "  sns.heatmap(conf_matrix, annot=True, fmt=\"d\", cmap=\"Blues\",\n",
    "              xticklabels=['Negative', 'Neutral', 'Positive'],\n",
    "              yticklabels=['Negative', 'Neutral', 'Positive'])\n",
    "  plt.xlabel(\"Predicted Label\")\n",
    "  plt.ylabel(\"True Label\")\n",
    "  plt.title(\"Confusion Matrix\")\n",
    "  plt.show()\n",
    "\n",
    "  # Print performance results\n",
    "  print(\"\\n=== Runtime Performance Metrics ===\")\n",
    "  print(f\"Total samples processed: {total_samples}\")\n",
    "  print(f\"Total Inference Time: {total_time:.2f} sec\")\n",
    "  print(f\"Average Latency per Review: {avg_latency:.4f} sec\")\n",
    "  print(f\"Throughput: {throughput:.2f} reviews/sec\")\n",
    "  print(f\"Memory Usage (RSS): {memory_usage:.2f} MB\")\n",
    "\n",
    "\n",
    "\n"
   ]
  },
  {
   "cell_type": "code",
   "execution_count": null,
   "metadata": {
    "colab": {
     "base_uri": "https://localhost:8080/",
     "height": 895
    },
    "executionInfo": {
     "elapsed": 809058,
     "status": "ok",
     "timestamp": 1747413152157,
     "user": {
      "displayName": "tùng bùi sơn",
      "userId": "16113988612539348042"
     },
     "user_tz": -600
    },
    "id": "pUjGo6PP2tNx",
    "outputId": "5471339e-a716-412e-d64f-e0f79d4c326d"
   },
   "outputs": [
    {
     "name": "stderr",
     "output_type": "stream",
     "text": [
      "100%|██████████| 500/500 [13:27<00:00,  1.62s/it]\n"
     ]
    },
    {
     "name": "stdout",
     "output_type": "stream",
     "text": [
      "\n",
      "=== Model Performance Metrics ===\n",
      "Accuracy: 0.74\n",
      "Precision (Macro): 0.58\n",
      "Recall (Macro): 0.61\n",
      "F1-Score (Macro): 0.58\n",
      "              precision    recall  f1-score   support\n",
      "\n",
      "    Negative       0.60      0.95      0.74       140\n",
      "     Neutral       0.15      0.16      0.16        43\n",
      "    Positive       0.98      0.73      0.83       317\n",
      "\n",
      "    accuracy                           0.74       500\n",
      "   macro avg       0.58      0.61      0.58       500\n",
      "weighted avg       0.81      0.74      0.75       500\n",
      "\n"
     ]
    },
    {
     "data": {
      "image/png": "[encoded data removed]",
      "text/plain": [
       "<Figure size 600x500 with 2 Axes>"
      ]
     },
     "metadata": {},
     "output_type": "display_data"
    },
    {
     "name": "stdout",
     "output_type": "stream",
     "text": [
      "\n",
      "=== Runtime Performance Metrics ===\n",
      "Total samples processed: 500\n",
      "Total Inference Time: 807.99 sec\n",
      "Average Latency per Review: 0.5734 sec\n",
      "Throughput: 0.62 reviews/sec\n",
      "Memory Usage (RSS): 2167.14 MB\n"
     ]
    }
   ],
   "source": [
    "run_experiment(test_df, type='zero_shot')"
   ]
  },
  {
   "cell_type": "code",
   "execution_count": null,
   "metadata": {
    "colab": {
     "base_uri": "https://localhost:8080/",
     "height": 895
    },
    "executionInfo": {
     "elapsed": 840125,
     "status": "ok",
     "timestamp": 1747413992594,
     "user": {
      "displayName": "tùng bùi sơn",
      "userId": "16113988612539348042"
     },
     "user_tz": -600
    },
    "id": "dcjVKjnX5Hmg",
    "outputId": "50caa2c9-4fce-40ed-d465-4b232cf0a871"
   },
   "outputs": [
    {
     "name": "stderr",
     "output_type": "stream",
     "text": [
      "100%|██████████| 500/500 [13:44<00:00,  1.65s/it]\n"
     ]
    },
    {
     "name": "stdout",
     "output_type": "stream",
     "text": [
      "\n",
      "=== Model Performance Metrics ===\n",
      "Accuracy: 0.75\n",
      "Precision (Macro): 0.58\n",
      "Recall (Macro): 0.62\n",
      "F1-Score (Macro): 0.59\n",
      "              precision    recall  f1-score   support\n",
      "\n",
      "    Negative       0.63      0.94      0.75       140\n",
      "     Neutral       0.16      0.16      0.16        43\n",
      "    Positive       0.97      0.75      0.84       317\n",
      "\n",
      "    accuracy                           0.75       500\n",
      "   macro avg       0.58      0.62      0.59       500\n",
      "weighted avg       0.80      0.75      0.76       500\n",
      "\n"
     ]
    },
    {
     "data": {
      "image/png": "[encoded data removed]",
      "text/plain": [
       "<Figure size 600x500 with 2 Axes>"
      ]
     },
     "metadata": {},
     "output_type": "display_data"
    },
    {
     "name": "stdout",
     "output_type": "stream",
     "text": [
      "\n",
      "=== Runtime Performance Metrics ===\n",
      "Total samples processed: 500\n",
      "Total Inference Time: 824.04 sec\n",
      "Average Latency per Review: 0.6698 sec\n",
      "Throughput: 0.61 reviews/sec\n",
      "Memory Usage (RSS): 2204.87 MB\n"
     ]
    }
   ],
   "source": [
    "run_experiment(test_df, type='few_shot')"
   ]
  },
  {
   "cell_type": "code",
   "execution_count": null,
   "metadata": {
    "colab": {
     "base_uri": "https://localhost:8080/",
     "height": 895
    },
    "executionInfo": {
     "elapsed": 828580,
     "status": "ok",
     "timestamp": 1747414829260,
     "user": {
      "displayName": "tùng bùi sơn",
      "userId": "16113988612539348042"
     },
     "user_tz": -600
    },
    "id": "Gr6Az7sm5LPD",
    "outputId": "0cc9779e-bb4a-4154-97cf-8b7caeeda3ba"
   },
   "outputs": [
    {
     "name": "stderr",
     "output_type": "stream",
     "text": [
      "100%|██████████| 500/500 [13:48<00:00,  1.66s/it]\n"
     ]
    },
    {
     "name": "stdout",
     "output_type": "stream",
     "text": [
      "\n",
      "=== Model Performance Metrics ===\n",
      "Accuracy: 0.75\n",
      "Precision (Macro): 0.58\n",
      "Recall (Macro): 0.62\n",
      "F1-Score (Macro): 0.59\n",
      "              precision    recall  f1-score   support\n",
      "\n",
      "    Negative       0.63      0.94      0.75       140\n",
      "     Neutral       0.16      0.16      0.16        43\n",
      "    Positive       0.97      0.75      0.84       317\n",
      "\n",
      "    accuracy                           0.75       500\n",
      "   macro avg       0.58      0.62      0.59       500\n",
      "weighted avg       0.80      0.75      0.76       500\n",
      "\n"
     ]
    },
    {
     "data": {
      "image/png": "[encoded data removed]",
      "text/plain": [
       "<Figure size 600x500 with 2 Axes>"
      ]
     },
     "metadata": {},
     "output_type": "display_data"
    },
    {
     "name": "stdout",
     "output_type": "stream",
     "text": [
      "\n",
      "=== Runtime Performance Metrics ===\n",
      "Total samples processed: 500\n",
      "Total Inference Time: 828.05 sec\n",
      "Average Latency per Review: 0.6697 sec\n",
      "Throughput: 0.60 reviews/sec\n",
      "Memory Usage (RSS): 2191.40 MB\n"
     ]
    }
   ],
   "source": [
    "run_experiment(test_df, type='few_shot', temperature=0.7)"
   ]
  }
 ],
 "metadata": {
  "accelerator": "GPU",
  "colab": {
   "gpuType": "T4",
   "provenance": []
  },
  "kernelspec": {
   "display_name": "tungbs",
   "language": "python",
   "name": "python3"
  },
  "language_info": {
   "codemirror_mode": {
    "name": "ipython",
    "version": 3
   },
   "file_extension": ".py",
   "mimetype": "text/x-python",
   "name": "python",
   "nbconvert_exporter": "python",
   "pygments_lexer": "ipython3",
   "version": "3.9.18"
  }
 },
 "nbformat": 4,
 "nbformat_minor": 0
}
